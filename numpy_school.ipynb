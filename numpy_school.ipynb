{
  "cells": [
    {
      "cell_type": "markdown",
      "metadata": {
        "id": "view-in-github",
        "colab_type": "text"
      },
      "source": [
        "<a href=\"https://colab.research.google.com/github/MAvRK7/MAvRK7/blob/main/numpy_school.ipynb\" target=\"_parent\"><img src=\"https://colab.research.google.com/assets/colab-badge.svg\" alt=\"Open In Colab\"/></a>"
      ]
    },
    {
      "cell_type": "code",
      "execution_count": null,
      "metadata": {
        "colab": {
          "base_uri": "https://localhost:8080/"
        },
        "id": "LpsWl8LSYGOD",
        "outputId": "5076298f-cf4f-425d-a21b-09880bf7fda4"
      },
      "outputs": [
        {
          "name": "stdout",
          "output_type": "stream",
          "text": [
            "hello\n"
          ]
        }
      ],
      "source": [
        "print(\"hello\")"
      ]
    },
    {
      "cell_type": "markdown",
      "metadata": {
        "id": "nm5q55_PGT1f"
      },
      "source": [
        " **Im testing Numpy**"
      ]
    },
    {
      "cell_type": "code",
      "execution_count": 2,
      "metadata": {
        "id": "VBSrRRIyGYkc"
      },
      "outputs": [],
      "source": [
        "import numpy as np"
      ]
    },
    {
      "cell_type": "markdown",
      "metadata": {
        "id": "kbxSxcL3JR5N"
      },
      "source": [
        "First doing the array stuff\n",
        "\n",
        "\n",
        "np.array    thats what its called"
      ]
    },
    {
      "cell_type": "code",
      "execution_count": null,
      "metadata": {
        "colab": {
          "base_uri": "https://localhost:8080/"
        },
        "id": "DAoX1eweGmbB",
        "outputId": "4e9d0d4f-dcd0-4040-e42d-de60e0b10b84"
      },
      "outputs": [
        {
          "name": "stdout",
          "output_type": "stream",
          "text": [
            "[1 2 3]\n",
            "[[1 2 3]\n",
            " [4 5 6]]\n",
            "1 3\n",
            "(3,) (2, 3)\n"
          ]
        },
        {
          "data": {
            "text/plain": [
              "2"
            ]
          },
          "execution_count": 3,
          "metadata": {},
          "output_type": "execute_result"
        }
      ],
      "source": [
        "a=np.array([1,2,3]) #1d array\n",
        "print (a)   #include ()\n",
        "#2d array\n",
        "b= np.array([[1,2,3],[4,5,6]])  #put , in between -> [],[]\n",
        "print (b)\n",
        "print(a[0], b[0,2]) #the count starts from 0\n",
        "print (a.shape, b.shape)  #shape gives the rows, col of the matrix\n",
        "b.ndim  #prints out the dimension of matrix"
      ]
    },
    {
      "cell_type": "markdown",
      "metadata": {
        "id": "vK9jopnlLoeg"
      },
      "source": [
        "size stuff"
      ]
    },
    {
      "cell_type": "code",
      "execution_count": null,
      "metadata": {
        "colab": {
          "base_uri": "https://localhost:8080/"
        },
        "id": "-hR1kGMiLq4q",
        "outputId": "a38a778b-25e8-47be-e120-8b593e46dd33"
      },
      "outputs": [
        {
          "name": "stdout",
          "output_type": "stream",
          "text": [
            "int16\n",
            "2\n"
          ]
        }
      ],
      "source": [
        "c=np.array ([1,2,3], dtype='int16')\n",
        "#usually its stored as 34 bit (4 bytes per array) but to save space we can make it 16 or 8 bit\n",
        "print(c.dtype)\n",
        "print(c.itemsize )\n"
      ]
    },
    {
      "cell_type": "code",
      "execution_count": null,
      "metadata": {
        "colab": {
          "base_uri": "https://localhost:8080/"
        },
        "id": "Xgick-0iMl3T",
        "outputId": "1d8bc2cb-7d34-4f5e-a096-01aa8727f8fe"
      },
      "outputs": [
        {
          "data": {
            "text/plain": [
              "2"
            ]
          },
          "execution_count": 27,
          "metadata": {},
          "output_type": "execute_result"
        }
      ],
      "source": [
        "c.itemsize #this is just in terms of bytes"
      ]
    },
    {
      "cell_type": "code",
      "execution_count": null,
      "metadata": {
        "colab": {
          "base_uri": "https://localhost:8080/"
        },
        "id": "9AJHIpSFL0RU",
        "outputId": "d608bf8c-1a99-4119-8b6d-92b752a70e3b"
      },
      "outputs": [
        {
          "data": {
            "text/plain": [
              "6"
            ]
          },
          "execution_count": 32,
          "metadata": {},
          "output_type": "execute_result"
        }
      ],
      "source": [
        "c.nbytes #number of bytes"
      ]
    },
    {
      "cell_type": "markdown",
      "metadata": {
        "id": "NcO7fzzKNvNd"
      },
      "source": [
        " *accessing specific array stuff*"
      ]
    },
    {
      "cell_type": "code",
      "execution_count": null,
      "metadata": {
        "colab": {
          "base_uri": "https://localhost:8080/"
        },
        "id": "mTIgz8F-OBnA",
        "outputId": "d42a0520-107b-44bc-b23d-7de32c9cc7bb"
      },
      "outputs": [
        {
          "name": "stdout",
          "output_type": "stream",
          "text": [
            "[[ 1  2  3  4  5  6]\n",
            " [11 12 13 14 15 16]]\n"
          ]
        }
      ],
      "source": [
        "d= np.array([[1,2,3,4,5,6],[11,12,13,14,15,16]])\n",
        "print(d)"
      ]
    },
    {
      "cell_type": "code",
      "execution_count": null,
      "metadata": {
        "colab": {
          "base_uri": "https://localhost:8080/"
        },
        "id": "w9RRUJr2OvAZ",
        "outputId": "62ec737e-a604-443e-da48-b7a9c47fd949"
      },
      "outputs": [
        {
          "name": "stdout",
          "output_type": "stream",
          "text": [
            "1\n",
            "[1 2 3 4 5 6]\n",
            "[ 2 12]\n"
          ]
        }
      ],
      "source": [
        "#get specific element arrayname(r,c)\n",
        "print(d[0,0])  #use [] brackets\n",
        "\n",
        "#get specific row\n",
        "print (d[0,:])\n",
        "\n",
        "#specific column\n",
        "print (d[:,1])"
      ]
    },
    {
      "cell_type": "markdown",
      "metadata": {
        "id": "e1mH9Rg-Y7Hi"
      },
      "source": [
        "Editing Arrays"
      ]
    },
    {
      "cell_type": "code",
      "execution_count": null,
      "metadata": {
        "colab": {
          "base_uri": "https://localhost:8080/"
        },
        "id": "oVVqpmlOY9V9",
        "outputId": "159a55b1-7669-478d-a986-ff0310a6ce38"
      },
      "outputs": [
        {
          "name": "stdout",
          "output_type": "stream",
          "text": [
            "[[ 0  2  7  4  5  6]\n",
            " [77 77 77 77 77 77]]\n",
            "[[ 0  2  7  4  5  6]\n",
            " [77 77  9 77 77 77]]\n",
            "[[ 0  2  7  4  5  6]\n",
            " [77 77 77 77 77 77]]\n"
          ]
        }
      ],
      "source": [
        "#after initializing the array\n",
        "# to edit a perticular cell\n",
        "\n",
        "d[0,0]=0\n",
        "print (d)\n",
        "\n",
        "# editing a column space\n",
        "d[:,2] = [7,9]\n",
        "print (d)\n",
        "\n",
        "#editing a row space\n",
        "d[1,:]=[77]\n",
        "print (d)\n",
        "\n",
        "#or\n",
        "#d[0,:]= 10\n",
        "#print (d)     //remove the \"#\" to make the top row 10 everywhere"
      ]
    },
    {
      "cell_type": "markdown",
      "metadata": {
        "id": "7ZRQOUzUcjzS"
      },
      "source": [
        "Default ways of filling arrays\n",
        "\n",
        "\n",
        "filling fully with one number"
      ]
    },
    {
      "cell_type": "code",
      "execution_count": null,
      "metadata": {
        "colab": {
          "base_uri": "https://localhost:8080/"
        },
        "id": "CwHwvgwpFDLV",
        "outputId": "562e34ba-a25a-4fb8-d813-1e5db60e23bd"
      },
      "outputs": [
        {
          "data": {
            "text/plain": [
              "array([4, 4, 4])"
            ]
          },
          "execution_count": 4,
          "metadata": {},
          "output_type": "execute_result"
        }
      ],
      "source": [
        "#getting the dimensions of another array and filling it full\n",
        "np.full_like(a,4)  # a is ([1,2,3])"
      ]
    },
    {
      "cell_type": "code",
      "execution_count": null,
      "metadata": {
        "colab": {
          "base_uri": "https://localhost:8080/"
        },
        "id": "sl0hrZBOGlwr",
        "outputId": "44e19d30-5ffb-4845-bc14-f1aadcaee9fb"
      },
      "outputs": [
        {
          "name": "stdout",
          "output_type": "stream",
          "text": [
            "[[0.86366901 0.8912402 ]\n",
            " [0.57198285 0.5711509 ]]\n",
            "[[1 3 0]\n",
            " [6 4 4]\n",
            " [3 2 6]]\n"
          ]
        }
      ],
      "source": [
        "# random\n",
        "e=np.random.random((2,2))\n",
        "print(e)\n",
        "\n",
        "#interger random\n",
        "f=np.random.randint(7,size=(3,3))  #7 means the highest random number that can come, 7 itself is not included\n",
        "#f=np.random.randint(4,7,size=(3,3))   HERE 4,5,6 will only be randomized\n",
        "print (f)\n"
      ]
    },
    {
      "cell_type": "code",
      "execution_count": null,
      "metadata": {
        "colab": {
          "base_uri": "https://localhost:8080/"
        },
        "id": "s8aXNkCBI7-q",
        "outputId": "66d71a66-2b06-43f2-d541-5292378aee90"
      },
      "outputs": [
        {
          "data": {
            "text/plain": [
              "array([[1., 0., 0.],\n",
              "       [0., 1., 0.],\n",
              "       [0., 0., 1.]])"
            ]
          },
          "execution_count": 14,
          "metadata": {},
          "output_type": "execute_result"
        }
      ],
      "source": [
        "# identity matrix\n",
        "np.identity (3)"
      ]
    },
    {
      "cell_type": "code",
      "execution_count": null,
      "metadata": {
        "colab": {
          "base_uri": "https://localhost:8080/"
        },
        "id": "2Q5sy_RAJYgd",
        "outputId": "7cfb2fd8-4f49-41b9-b998-a85d295c8366"
      },
      "outputs": [
        {
          "output_type": "stream",
          "name": "stdout",
          "text": [
            "[[1 2 3]\n",
            " [1 2 3]\n",
            " [1 2 3]]\n"
          ]
        }
      ],
      "source": [
        "#repeat an array\n",
        "a1=np.array([[1,2,3]])\n",
        "a2=np.repeat(a1,3,axis=0)\n",
        "print(a2)"
      ]
    },
    {
      "cell_type": "markdown",
      "source": [
        "Slicing a array\n",
        "\n",
        "This slices out an array seperate from the main array"
      ],
      "metadata": {
        "id": "g7q83swRAHOV"
      }
    },
    {
      "cell_type": "code",
      "source": [
        "a3=np.full((5,5),1)\n",
        "a4=a3[1:4,1:4]\n",
        "print (a4)"
      ],
      "metadata": {
        "colab": {
          "base_uri": "https://localhost:8080/"
        },
        "id": "HqCA74GwAS58",
        "outputId": "a9381ad8-afd8-49e1-d6b8-6b0d4fa80de5"
      },
      "execution_count": null,
      "outputs": [
        {
          "output_type": "stream",
          "name": "stdout",
          "text": [
            "[[1 1 1]\n",
            " [1 1 1]\n",
            " [1 1 1]]\n"
          ]
        }
      ]
    },
    {
      "cell_type": "code",
      "source": [
        "#test\n",
        "a3=np.full((5,5),1)\n",
        "a4=a3[1:4,1:4]=np.full((3,3),0)\n",
        "#a4=np.full((3,3),0)\n",
        "#print (a4)\n",
        "#a3=np.full((3,3),0)\n",
        "a3[2,2]=9\n",
        "print (a3)"
      ],
      "metadata": {
        "colab": {
          "base_uri": "https://localhost:8080/"
        },
        "id": "-yxJLozJPNqb",
        "outputId": "4bdffd99-2c5c-4210-e989-116cb55174f5"
      },
      "execution_count": null,
      "outputs": [
        {
          "output_type": "stream",
          "name": "stdout",
          "text": [
            "[[1 1 1 1 1]\n",
            " [1 0 0 0 1]\n",
            " [1 0 9 0 1]\n",
            " [1 0 0 0 1]\n",
            " [1 1 1 1 1]]\n"
          ]
        }
      ]
    },
    {
      "cell_type": "markdown",
      "source": [
        "LEARNING\n",
        "If I slice out from an array and modify it in that line itself, the original also changes\n",
        "\n",
        "eg- a4=a3[1:4,1:4]=np.full((3,3),0)\n",
        "\n",
        "but\n",
        "if i slice out and then im the next line change the slice, the original is unaffected. NOTE - I used full change here not individual\n",
        "\n",
        "eg- a3=np.full((5,5),1)\n",
        "\n",
        "  a4=a3[1:4,1:4]\n",
        "\n",
        "  a4=np.full((3,3),0)\n",
        "\n",
        "  a3 will be a matrix 5x5 full of 1s and a4 will be a 3x3 full of 0s\n",
        "\n",
        "  But if you change individual even in diff lines it will change"
      ],
      "metadata": {
        "id": "W83fNz1bhqjp"
      }
    },
    {
      "cell_type": "markdown",
      "source": [
        "Copying an array\n",
        "\n",
        "if for copying one array you absolutely dont want to disturb the other one"
      ],
      "metadata": {
        "id": "KDF2-8IaAnz8"
      }
    },
    {
      "cell_type": "code",
      "source": [
        "a1=np.array([1,2,3])\n",
        "b1=a1.copy()\n",
        "b1[0]=100  #changes in b1 dont affect a1\n",
        "print (b1)"
      ],
      "metadata": {
        "colab": {
          "base_uri": "https://localhost:8080/"
        },
        "id": "fsJTraR0Az6o",
        "outputId": "90eb47f6-9059-4a42-f4b3-e3171309584e"
      },
      "execution_count": null,
      "outputs": [
        {
          "output_type": "stream",
          "name": "stdout",
          "text": [
            "[100   2   3]\n"
          ]
        }
      ]
    },
    {
      "cell_type": "code",
      "source": [],
      "metadata": {
        "id": "nryv1oVFAmt8"
      },
      "execution_count": null,
      "outputs": []
    },
    {
      "cell_type": "markdown",
      "metadata": {
        "id": "CJ2AXbysQiut"
      },
      "source": [
        "Part of Arrays"
      ]
    },
    {
      "cell_type": "code",
      "execution_count": null,
      "metadata": {
        "colab": {
          "base_uri": "https://localhost:8080/"
        },
        "id": "9udaskxxQk8X",
        "outputId": "5a1a649d-0b4f-4c8d-a011-f830bcea923e"
      },
      "outputs": [
        {
          "data": {
            "text/plain": [
              "array([2, 4])"
            ]
          },
          "execution_count": 45,
          "metadata": {},
          "output_type": "execute_result"
        }
      ],
      "source": [
        "#within a row\n",
        "# arrayname[row_number, start_index : end_index : stepsize]\n",
        "d[0, 1:4:2]"
      ]
    },
    {
      "cell_type": "markdown",
      "source": [
        "Math\n",
        "\n",
        "This part is element wise"
      ],
      "metadata": {
        "id": "xMrQw20Pe2zY"
      }
    },
    {
      "cell_type": "code",
      "execution_count": 10,
      "metadata": {
        "id": "wv5nEBspR2V7",
        "colab": {
          "base_uri": "https://localhost:8080/"
        },
        "outputId": "0000740e-2a02-40b9-d082-40f8eb094867"
      },
      "outputs": [
        {
          "output_type": "stream",
          "name": "stdout",
          "text": [
            "32\n",
            "32\n"
          ]
        }
      ],
      "source": [
        "a=np.array([1,2,3])\n",
        "b=np.array([4,5,6])\n",
        "a+1\n",
        "#various commands, a+=2, a-2,a*2, a ** 2 (power)\n",
        "a*2\n",
        "np.sin(a) #trig take sin/cos/tan of all arr values\n",
        "np.sqrt(a) #square root\n",
        "print(np.dot(a, b))  #matrix multiplication\n",
        "#or\n",
        "print(a@b)\n",
        "\n"
      ]
    },
    {
      "cell_type": "markdown",
      "source": [
        "Integer array indexing"
      ],
      "metadata": {
        "id": "nFPzcggjKv2z"
      }
    },
    {
      "cell_type": "code",
      "source": [
        "#sum of each everything/row/column\n",
        "a=np.array([[1,2],[3,4]])\n",
        "print(np.sum(a))\n",
        "print(np.sum(a,axis=1))  #in a 2D array axis=1 means along rows\n",
        "print(np.sum(a,axis=0))# in 2D array axis=0 means along cols"
      ],
      "metadata": {
        "colab": {
          "base_uri": "https://localhost:8080/"
        },
        "id": "rEifWhlfU5Ht",
        "outputId": "5486ee0d-c9a3-4892-e0da-0834830fa2c3"
      },
      "execution_count": 16,
      "outputs": [
        {
          "output_type": "stream",
          "name": "stdout",
          "text": [
            "10\n",
            "[3 7]\n",
            "[4 6]\n"
          ]
        }
      ]
    },
    {
      "cell_type": "code",
      "source": [
        "#matrix ops\n",
        "print(\"transpose\\n\", a.T) #transpose"
      ],
      "metadata": {
        "colab": {
          "base_uri": "https://localhost:8080/"
        },
        "id": "eUo4dugjW49L",
        "outputId": "be41a23b-d7be-48fe-8360-8e142ffe59e7"
      },
      "execution_count": 18,
      "outputs": [
        {
          "output_type": "stream",
          "name": "stdout",
          "text": [
            "transpose\n",
            " [[1 3]\n",
            " [2 4]]\n"
          ]
        }
      ]
    },
    {
      "cell_type": "code",
      "source": [
        "#an array\n",
        "a= np.array([[1,2],[3,4],[5,6]])\n",
        "#printing specific number in the matrix\n",
        "print(np.array([a[0, 0], a[1, 1], a[2, 0]]))\n",
        "\n",
        "#or\n",
        "\n",
        "print (a[[0,1,2],[0,1,0]])\n"
      ],
      "metadata": {
        "colab": {
          "base_uri": "https://localhost:8080/"
        },
        "id": "mEA8_-I2KyWl",
        "outputId": "8b04d0de-3523-4838-8caf-f27f1c1b7752"
      },
      "execution_count": 5,
      "outputs": [
        {
          "output_type": "stream",
          "name": "stdout",
          "text": [
            "[1 4 5]\n",
            "[1 4 5]\n"
          ]
        }
      ]
    },
    {
      "cell_type": "code",
      "source": [
        "#adding a constant to an array, first we tile the constant to match the array's dim and then we add\n",
        "a3= np.array([[1,2,3],[3,4,5],[5,6,7]])\n",
        "v = np.array([1, 0, 1])  #we want to add this to each of the array\n",
        "vv= np.tile(v,(3,1))  #tile it 3 times, once in each row\n",
        "print (vv)\n",
        "a4=a3+vv\n",
        "print (\"added result is\")\n",
        "print(a4)"
      ],
      "metadata": {
        "colab": {
          "base_uri": "https://localhost:8080/"
        },
        "id": "U8JzFFClNlfa",
        "outputId": "a0133822-48a4-4bbd-b1d8-d0cf917dda0b"
      },
      "execution_count": 31,
      "outputs": [
        {
          "output_type": "stream",
          "name": "stdout",
          "text": [
            "[[1 0 1]\n",
            " [1 0 1]\n",
            " [1 0 1]]\n",
            "added result is\n",
            "[[2 2 4]\n",
            " [4 4 6]\n",
            " [6 6 8]]\n"
          ]
        }
      ]
    },
    {
      "cell_type": "markdown",
      "source": [
        "**linear algebra**\n",
        "\n",
        "this is not element wise"
      ],
      "metadata": {
        "id": "7POGlyLUgqWB"
      }
    },
    {
      "cell_type": "code",
      "source": [],
      "metadata": {
        "id": "U0s3maGse5TA"
      },
      "execution_count": null,
      "outputs": []
    }
  ],
  "metadata": {
    "colab": {
      "provenance": [],
      "authorship_tag": "ABX9TyNgdNJipkXkmPAub66RsYfC",
      "include_colab_link": true
    },
    "kernelspec": {
      "display_name": "Python 3",
      "name": "python3"
    },
    "language_info": {
      "name": "python"
    }
  },
  "nbformat": 4,
  "nbformat_minor": 0
}